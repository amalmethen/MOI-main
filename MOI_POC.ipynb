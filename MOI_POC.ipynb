{
  "nbformat": 4,
  "nbformat_minor": 0,
  "metadata": {
    "colab": {
      "provenance": []
    },
    "kernelspec": {
      "name": "python3",
      "display_name": "Python 3"
    },
    "language_info": {
      "name": "python"
    }
  },
  "cells": [
    {
      "cell_type": "markdown",
      "source": [
        "# Getting Auth Token"
      ],
      "metadata": {
        "id": "8o_aU34WEewg"
      }
    },
    {
      "cell_type": "code",
      "source": [
        "import requests\n",
        "\n",
        "# Step 1: Get the IBM Cloud IAM Token\n",
        "def get_ibm_token(apikey):\n",
        "    token_url = \"https://iam.cloud.ibm.com/identity/token\"\n",
        "    headers = {\n",
        "        \"Content-Type\": \"application/x-www-form-urlencoded\"\n",
        "    }\n",
        "    payload = {\n",
        "        \"grant_type\": \"urn:ibm:params:oauth:grant-type:apikey\",\n",
        "        \"apikey\": apikey\n",
        "    }\n",
        "    response = requests.post(token_url, headers=headers, data=payload)\n",
        "\n",
        "    if response.status_code == 200:\n",
        "        token_data = response.json()\n",
        "        return token_data['access_token']\n",
        "    else:\n",
        "        raise Exception(f\"Failed to get token: {response.status_code} - {response.text}\")\n",
        "\n",
        "# Use your IBM Cloud API key\n",
        "apikey = \"4TlzTGjl5fVTyEB_gC8Gv6mgVBmJQmloEKm743CpsIc4\"\n",
        "token = get_ibm_token(apikey)\n",
        "\n",
        "# Print the obtained token\n",
        "print(\"IBM Cloud IAM Token:\", token)\n",
        "\n",
        "# Step 2: Use the token to make your request\n",
        "url = \"https://us-south.ml.cloud.ibm.com/ml/v1/text/generation?version=2023-05-29\""
      ],
      "metadata": {
        "colab": {
          "base_uri": "https://localhost:8080/"
        },
        "id": "eaILP_oBEeDz",
        "outputId": "53799b60-835e-4925-c58c-aec717a33f44"
      },
      "execution_count": null,
      "outputs": [
        {
          "output_type": "stream",
          "name": "stdout",
          "text": [
            "IBM Cloud IAM Token: eyJraWQiOiIyMDI0MDgwMzA4NDEiLCJhbGciOiJSUzI1NiJ9.eyJpYW1faWQiOiJJQk1pZC02OTEwMDA2QllEIiwiaWQiOiJJQk1pZC02OTEwMDA2QllEIiwicmVhbG1pZCI6IklCTWlkIiwianRpIjoiYTIxM2NkNGQtYzRhOS00YzhiLWFkMGYtMTA3MDAzZGM5YWE1IiwiaWRlbnRpZmllciI6IjY5MTAwMDZCWUQiLCJnaXZlbl9uYW1lIjoiQWJkdWxsYWgiLCJmYW1pbHlfbmFtZSI6IkFsbWV0aGVuIiwibmFtZSI6IkFiZHVsbGFoIEFsbWV0aGVuIiwiZW1haWwiOiJhbG1ldGhlbkBnYm1tZS5jb20iLCJzdWIiOiJhbG1ldGhlbkBnYm1tZS5jb20iLCJhdXRobiI6eyJzdWIiOiJhbG1ldGhlbkBnYm1tZS5jb20iLCJpYW1faWQiOiJJQk1pZC02OTEwMDA2QllEIiwibmFtZSI6IkFiZHVsbGFoIEFsbWV0aGVuIiwiZ2l2ZW5fbmFtZSI6IkFiZHVsbGFoIiwiZmFtaWx5X25hbWUiOiJBbG1ldGhlbiIsImVtYWlsIjoiYWxtZXRoZW5AZ2JtbWUuY29tIn0sImFjY291bnQiOnsidmFsaWQiOnRydWUsImJzcyI6IjFkMzM0ZjZmNWM0YTQwMjM4OWIxMDAxZjUwZDY1NjVkIiwiaW1zX3VzZXJfaWQiOiIxMjA1MTY2OSIsImZyb3plbiI6dHJ1ZSwiaXNfZW50ZXJwcmlzZV9hY2NvdW50IjpmYWxzZSwiZW50ZXJwcmlzZV9pZCI6ImVlNTc1YzU3Nzg3NjRkNDA5MTU1YWEzNTc4MGVjOGQxIiwiaW1zIjoiMjY5NTYyMyJ9LCJpYXQiOjE3MjM1MzQ3NDcsImV4cCI6MTcyMzUzODM0NywiaXNzIjoiaHR0cHM6Ly9pYW0uY2xvdWQuaWJtLmNvbS9pZGVudGl0eSIsImdyYW50X3R5cGUiOiJ1cm46aWJtOnBhcmFtczpvYXV0aDpncmFudC10eXBlOmFwaWtleSIsInNjb3BlIjoiaWJtIG9wZW5pZCIsImNsaWVudF9pZCI6ImRlZmF1bHQiLCJhY3IiOjEsImFtciI6WyJwd2QiXX0.Tigr3r0m4FFQOl2bJq7nMFJfBL_FDaaDnfFJqDdhDTeNWY2sdTmUAA-eZ-gyEOpoeb0ybjDJRCjr2WOkL-AO98NZCqgKFu1Apo6Jc_tHHI9YTEF_uOzIeHu2CmXUQl9secOEeUTSf56nTKaVeh_c44ccUmpiEimL9PWTwsDNDzVnVrGegt8_mVSUJjYXlQiTol3EvnfHcjrupsAA2gyQM9h0lk42LB5D9x6CC2aC0LYGbNiOPW91Ye183CMfWrYy9jqIO4xOFOLMsfC6UcmtJZqm_jVEehfd-g4nEfmWdNXjfkfZ_W4HD1eX23fOgRWar9NAtx7sJM3uyr1bvHs4Dg\n"
          ]
        }
      ]
    },
    {
      "cell_type": "markdown",
      "source": [
        "# SQL Code generation from Watsonx.ai using Code Llama model"
      ],
      "metadata": {
        "id": "mMfQWsqEMRA3"
      }
    },
    {
      "cell_type": "code",
      "source": [
        "import requests\n",
        "\n",
        "url = \"https://us-south.ml.cloud.ibm.com/ml/v1/text/generation?version=2023-05-29\"\n",
        "\n",
        "# Prompt the user for the input\n",
        "user_input = input(\"Please enter your SQL query request: \")\n",
        "\n",
        "# Define the schema based on the provided data\n",
        "schema = \"\"\"\n",
        "The data are in the MOI.TRESIDENCY_CERTIFI_X table.\n",
        "These are the columns of the data:\n",
        "- NUMBER: The unique identifier for each residency certificate.\n",
        "- ARTICAL: The article under which the residency certificate is issued.\n",
        "- ISSUE_PLACE: The place where the residency certificate was issued.\n",
        "- DATE_OF_ISSUE: The date when the residency certificate was issued.\n",
        "- REASON_FOR_EXIT: The reason provided for the cancellation of the residency certificate.\n",
        "- STATUS: The current status of the residency certificate (e.g., ACTIVE, CANCELLED).\n",
        "- RES_CERT_SEQ_NUM: The sequential number for the residency certificate.\n",
        "- PP_NATIONAL_NUMBER: The national number associated with the residency certificate.\n",
        "- CANCELLATION_REASO: The reason provided for the cancellation of the residency certificate.\n",
        "- CANCELLATION_DATE: The date when the residency certificate was cancelled.\n",
        "- PUB_ORG_NUMBER: The public organization number associated with the issuance of the residency certificate.\n",
        "\"\"\"\n",
        "\n",
        "# Examples and structure for the request\n",
        "body = {\n",
        "    \"input\": f\"\"\"Please write only the code part. The response should only be a SQL code. Remember to stick to the relevant part only. Ensure the code is efficient, free of syntax errors, and adheres to standard SQL practices to guarantee reliable results. Remember to only produce the code without explaining.\n",
        "\n",
        "{schema}\n",
        "\n",
        "Examples for responses:\n",
        "\n",
        "Example 1:\n",
        "User Input:\n",
        "\\\"How many residency certificates are currently active?\\\"\n",
        "Model Output:\n",
        "SELECT COUNT(*) AS \\\"NUMBER OF ACTIVE CERTIFICATES\\\"\n",
        "FROM MOI.TRESIDENCY_CERTIFI_X\n",
        "WHERE STATUS = 'ACTIVE';\n",
        "\n",
        "Example 2:\n",
        "User Input:\n",
        "\\\"What is the distribution of residency certificates by their issue place?\\\"\n",
        "Model Output:\n",
        "SELECT ISSUE_PLACE, COUNT(*) AS \\\"NUMBER OF CERTIFICATES\\\"\n",
        "FROM MOI.TRESIDENCY_CERTIFI_X\n",
        "GROUP BY ISSUE_PLACE;\n",
        "\n",
        "Example 3:\n",
        "User Input:\n",
        "\\\"Which reason for exit is the most common among residency certificate cancellations?\\\"\n",
        "Model Output:\n",
        "SELECT \\\"REASON_FOR_EXIT\\\", COUNT(*) AS \\\"NUMBER OF CANCELLATIONS\\\"\n",
        "FROM MOI.TRESIDENCY_CERTIFI_X\n",
        "WHERE CANCELLATION_DATE IS NOT NULL\n",
        "GROUP BY \\\"REASON_FOR_EXIT\\\"\n",
        "ORDER BY \\\"NUMBER OF CANCELLATIONS\\\" DESC\n",
        "LIMIT 1;\n",
        "\n",
        "Example 4:\n",
        "User Input:\n",
        "\\\"What is the average time between the issuance and cancellation of residency certificates?\\\"\n",
        "Model Output:\n",
        "SELECT AVG(CANCELLATION_DATE - DATE_OF_ISSUE) AS \\\"AVERAGE TIME TO CANCELLATION (DAYS)\\\"\n",
        "FROM MOI.TRESIDENCY_CERTIFI_X\n",
        "WHERE CANCELLATION_DATE IS NOT NULL;\n",
        "\n",
        "Example 5:\n",
        "User Input:\n",
        "\\\"How many residency certificates were issued under each article?\\\"\n",
        "Model Output:\n",
        "SELECT ARTICAL, COUNT(*) AS \\\"NUMBER OF CERTIFICATES\\\"\n",
        "FROM MOI.TRESIDENCY_CERTIFI_X\n",
        "GROUP BY ARTICAL;\n",
        "\n",
        "User Input:\n",
        "\\\"{user_input}\\\"\n",
        "\n",
        "Model Output:\"\"\",\n",
        "    \"parameters\": {\n",
        "        \"decoding_method\": \"greedy\",\n",
        "        \"max_new_tokens\": 80,\n",
        "        \"repetition_penalty\": 1.15\n",
        "    },\n",
        "    \"model_id\": \"codellama/codellama-34b-instruct-hf\",\n",
        "    \"project_id\": \"8cb29e44-d9c0-476a-843d-7624ce33fea2\"\n",
        "}\n",
        "\n",
        "headers = {\n",
        "    \"Accept\": \"application/json\",\n",
        "    \"Content-Type\": \"application/json\",\n",
        "    \"Authorization\": f\"Bearer {token}\"  # Ensure you have a valid token here\n",
        "}\n",
        "\n",
        "response = requests.post(url, headers=headers, json=body)\n",
        "\n",
        "if response.status_code != 200:\n",
        "    raise Exception(\"Non-200 response: \" + str(response.text))\n",
        "\n",
        "data = response.json()\n",
        "generated_text = data['results'][0]['generated_text'].strip()\n",
        "\n",
        "print(generated_text)"
      ],
      "metadata": {
        "id": "dK1j9ySltpOo",
        "colab": {
          "base_uri": "https://localhost:8080/"
        },
        "outputId": "3fe0ce97-ce7f-4982-a532-c5c7afaf2b0a"
      },
      "execution_count": null,
      "outputs": [
        {
          "output_type": "stream",
          "name": "stdout",
          "text": [
            "Please enter your SQL query request: get the count of all the rows\n",
            "SELECT COUNT(*) FROM MOI.TRESIDENCY_CERTIFI_X\n"
          ]
        }
      ]
    },
    {
      "cell_type": "markdown",
      "source": [
        "# DB2 connection"
      ],
      "metadata": {
        "id": "Yuv6povbMOhe"
      }
    },
    {
      "cell_type": "code",
      "source": [
        "!pip install ibm_db"
      ],
      "metadata": {
        "id": "3zlZwxj7MU6V",
        "colab": {
          "base_uri": "https://localhost:8080/"
        },
        "outputId": "70064a72-7dd6-4259-f6fc-06b3379f371b"
      },
      "execution_count": null,
      "outputs": [
        {
          "output_type": "stream",
          "name": "stdout",
          "text": [
            "Requirement already satisfied: ibm_db in /usr/local/lib/python3.10/dist-packages (3.2.3)\n"
          ]
        }
      ]
    },
    {
      "cell_type": "code",
      "source": [
        "import ibm_db\n",
        "\n",
        "# Upload the SSL certificate file\n",
        "# SSL certification should be downloaded from DB2 and uploaded to your environment\n",
        "# ssl_cert_path = '/content/DigiCertGlobalRootCA.crt'\n",
        "\n",
        "import gdown\n",
        "\n",
        "# Google Drive file ID\n",
        "file_id = '14eM5B8dBV0IeddSMrLPWxS4OMv66lPZg'\n",
        "\n",
        "# Create the URL for downloading the file\n",
        "url = f'https://drive.google.com/uc?id={file_id}'\n",
        "\n",
        "# Path where the downloaded file will be saved\n",
        "ssl_cert_path = '/content/DigiCertGlobalRootCA.crt'\n",
        "\n",
        "# Download the file\n",
        "gdown.download(url, ssl_cert_path, quiet=False)\n",
        "\n",
        "# Global variable to store the result\n",
        "db2_result = []\n",
        "\n",
        "# Function to execute SQL command on DB2\n",
        "def execute_sql_on_db2(generated_text):\n",
        "    global db2_result  # Declare the global variable\n",
        "    db2_dsn = (\n",
        "        'DATABASE=bludb;'\n",
        "        'HOSTNAME=c1cf1534-511c-486e-ab1d-2e16cbb3c295.bu6tc4nd0urletsa6ufg.databases.appdomain.cloud;'\n",
        "        'PORT=30614;'\n",
        "        'PROTOCOL=TCPIP;'\n",
        "        'UID=233a2d73;'\n",
        "        'PWD=DDLFe7zNGe9QVxrf;'\n",
        "        f'SECURITY=SSL;'\n",
        "        f'SSLServerCertificate={ssl_cert_path}'\n",
        "    )\n",
        "\n",
        "    # Connect to the database\n",
        "    conn = ibm_db.connect(db2_dsn, '', '')\n",
        "\n",
        "    if conn:\n",
        "        # print(\"Connected to DB2 database\")\n",
        "        # Execute the SQL command\n",
        "        stmt = ibm_db.exec_immediate(conn, generated_text)\n",
        "\n",
        "        # Fetch the result\n",
        "        result = ibm_db.fetch_both(stmt)\n",
        "        while result:\n",
        "            db2_result.append(result)  # Store each row in the global variable\n",
        "            result = ibm_db.fetch_both(stmt)\n",
        "\n",
        "        # Close the connection\n",
        "        ibm_db.close(conn)\n",
        "    else:\n",
        "        print(\"Failed to connect to DB2 database\")\n",
        "\n",
        "# Execute the SQL command on DB2 using the generated SQL command from above\n",
        "execute_sql_on_db2(generated_text)\n",
        "\n",
        "# The result is now stored in the db2_result variable and can be used later\n",
        "print(\"DB2 Result:\", db2_result)"
      ],
      "metadata": {
        "id": "jO6466mfp769",
        "colab": {
          "base_uri": "https://localhost:8080/"
        },
        "outputId": "7620cc77-5cea-483f-beb8-c8b3fb3cdf96"
      },
      "execution_count": null,
      "outputs": [
        {
          "output_type": "stream",
          "name": "stderr",
          "text": [
            "Downloading...\n",
            "From (original): https://drive.google.com/uc?id=14eM5B8dBV0IeddSMrLPWxS4OMv66lPZg\n",
            "From (redirected): https://drive.google.com/uc?id=14eM5B8dBV0IeddSMrLPWxS4OMv66lPZg&confirm=t&uuid=842e5ea4-95f1-47c0-93d4-76403520fda9\n",
            "To: /content/DigiCertGlobalRootCA.crt\n",
            "100%|██████████| 947/947 [00:00<00:00, 830kB/s]\n"
          ]
        },
        {
          "output_type": "stream",
          "name": "stdout",
          "text": [
            "DB2 Result: [{'1': 10, 0: 10}]\n"
          ]
        }
      ]
    },
    {
      "cell_type": "markdown",
      "source": [
        "# Humanizing the response from Watsonx.ai using IBM Granite model"
      ],
      "metadata": {
        "id": "2zbEpXbJVMrw"
      }
    },
    {
      "cell_type": "code",
      "source": [
        "import requests\n",
        "\n",
        "# Prepare the input for the model\n",
        "def humanize_response(user_input, result):\n",
        "    input_text = f\"In one sentence, explain the answer. '{user_input}': {result}\"\n",
        "    url = \"https://us-south.ml.cloud.ibm.com/ml/v1/text/generation?version=2023-05-29\"\n",
        "\n",
        "    body = {\n",
        "        \"input\": f\"Understand the results first. The result came from executing the query from the provided text. Just answer the question based on the returned results. If there is a Arabic text, leave it in Arabic: {input_text}\",\n",
        "        \"parameters\": {\n",
        "            \"decoding_method\": \"greedy\",\n",
        "            \"max_new_tokens\": 100,\n",
        "            \"repetition_penalty\": 1.05\n",
        "        },\n",
        "        \"model_id\": \"ibm/granite-13b-chat-v2\",\n",
        "        \"project_id\": \"8cb29e44-d9c0-476a-843d-7624ce33fea2\"\n",
        "    }\n",
        "\n",
        "    headers = {\n",
        "        \"Accept\": \"application/json\",\n",
        "        \"Content-Type\": \"application/json\",\n",
        "        \"Authorization\":  f\"Bearer {token}\"\n",
        "}\n",
        "\n",
        "    response = requests.post(url, headers=headers, json=body)\n",
        "\n",
        "    if response.status_code != 200:\n",
        "        raise Exception(\"Non-200 response: \" + str(response.text))\n",
        "\n",
        "    data = response.json()\n",
        "    humanized_text = data['results'][0]['generated_text'].strip()\n",
        "\n",
        "    return humanized_text\n",
        "\n",
        "# Get the humanized response\n",
        "humanized_response = humanize_response(user_input, db2_result)\n",
        "\n",
        "print(humanized_response)"
      ],
      "metadata": {
        "id": "O51H-V7pVSop",
        "colab": {
          "base_uri": "https://localhost:8080/"
        },
        "outputId": "87243135-775f-4f76-b761-e75979138208"
      },
      "execution_count": null,
      "outputs": [
        {
          "output_type": "stream",
          "name": "stdout",
          "text": [
            "The result shows that there are 10 rows in the table, and each row has 10 occurrences.\n"
          ]
        }
      ]
    }
  ]
}